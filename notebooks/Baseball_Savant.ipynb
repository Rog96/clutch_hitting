{
 "cells": [
  {
   "cell_type": "code",
   "execution_count": 2,
   "metadata": {},
   "outputs": [
    {
     "name": "stdout",
     "output_type": "stream",
     "text": [
      "Requirement already satisfied: pybaseball in /Users/seannorris/anaconda3/lib/python3.8/site-packages (2.1.1)\n",
      "Requirement already satisfied: pandas>=1.0.3 in /Users/seannorris/anaconda3/lib/python3.8/site-packages (from pybaseball) (1.0.5)\n",
      "Requirement already satisfied: pyarrow>=1.0.1 in /Users/seannorris/anaconda3/lib/python3.8/site-packages (from pybaseball) (2.0.0)\n",
      "Requirement already satisfied: requests>=2.18.1 in /Users/seannorris/anaconda3/lib/python3.8/site-packages (from pybaseball) (2.24.0)\n",
      "Requirement already satisfied: numpy>=1.13.0 in /Users/seannorris/anaconda3/lib/python3.8/site-packages (from pybaseball) (1.18.5)\n",
      "Requirement already satisfied: pygithub>=1.51 in /Users/seannorris/anaconda3/lib/python3.8/site-packages (from pybaseball) (1.53)\n",
      "Requirement already satisfied: scipy>=1.4.0 in /Users/seannorris/anaconda3/lib/python3.8/site-packages (from pybaseball) (1.5.0)\n",
      "Requirement already satisfied: altair>=4.0.0 in /Users/seannorris/anaconda3/lib/python3.8/site-packages (from pybaseball) (4.1.0)\n",
      "Requirement already satisfied: lxml>=4.2.1 in /Users/seannorris/anaconda3/lib/python3.8/site-packages (from pybaseball) (4.5.2)\n",
      "Requirement already satisfied: beautifulsoup4>=4.4.0 in /Users/seannorris/anaconda3/lib/python3.8/site-packages (from pybaseball) (4.9.1)\n",
      "Requirement already satisfied: matplotlib>=2.0.0 in /Users/seannorris/anaconda3/lib/python3.8/site-packages (from pybaseball) (3.2.2)\n",
      "Requirement already satisfied: python-dateutil>=2.6.1 in /Users/seannorris/anaconda3/lib/python3.8/site-packages (from pandas>=1.0.3->pybaseball) (2.8.1)\n",
      "Requirement already satisfied: pytz>=2017.2 in /Users/seannorris/anaconda3/lib/python3.8/site-packages (from pandas>=1.0.3->pybaseball) (2020.1)\n",
      "Requirement already satisfied: certifi>=2017.4.17 in /Users/seannorris/anaconda3/lib/python3.8/site-packages (from requests>=2.18.1->pybaseball) (2020.6.20)\n",
      "Requirement already satisfied: idna<3,>=2.5 in /Users/seannorris/anaconda3/lib/python3.8/site-packages (from requests>=2.18.1->pybaseball) (2.10)\n",
      "Requirement already satisfied: urllib3!=1.25.0,!=1.25.1,<1.26,>=1.21.1 in /Users/seannorris/anaconda3/lib/python3.8/site-packages (from requests>=2.18.1->pybaseball) (1.25.9)\n",
      "Requirement already satisfied: chardet<4,>=3.0.2 in /Users/seannorris/anaconda3/lib/python3.8/site-packages (from requests>=2.18.1->pybaseball) (3.0.4)\n",
      "Requirement already satisfied: pyjwt in /Users/seannorris/anaconda3/lib/python3.8/site-packages (from pygithub>=1.51->pybaseball) (1.7.1)\n",
      "Requirement already satisfied: deprecated in /Users/seannorris/anaconda3/lib/python3.8/site-packages (from pygithub>=1.51->pybaseball) (1.2.10)\n",
      "Requirement already satisfied: jsonschema in /Users/seannorris/anaconda3/lib/python3.8/site-packages (from altair>=4.0.0->pybaseball) (3.2.0)\n",
      "Requirement already satisfied: jinja2 in /Users/seannorris/anaconda3/lib/python3.8/site-packages (from altair>=4.0.0->pybaseball) (2.11.2)\n",
      "Requirement already satisfied: toolz in /Users/seannorris/anaconda3/lib/python3.8/site-packages (from altair>=4.0.0->pybaseball) (0.10.0)\n",
      "Requirement already satisfied: entrypoints in /Users/seannorris/anaconda3/lib/python3.8/site-packages (from altair>=4.0.0->pybaseball) (0.3)\n",
      "Requirement already satisfied: soupsieve>1.2 in /Users/seannorris/anaconda3/lib/python3.8/site-packages (from beautifulsoup4>=4.4.0->pybaseball) (2.0.1)\n",
      "Requirement already satisfied: pyparsing!=2.0.4,!=2.1.2,!=2.1.6,>=2.0.1 in /Users/seannorris/anaconda3/lib/python3.8/site-packages (from matplotlib>=2.0.0->pybaseball) (2.4.7)\n",
      "Requirement already satisfied: cycler>=0.10 in /Users/seannorris/anaconda3/lib/python3.8/site-packages (from matplotlib>=2.0.0->pybaseball) (0.10.0)\n",
      "Requirement already satisfied: kiwisolver>=1.0.1 in /Users/seannorris/anaconda3/lib/python3.8/site-packages (from matplotlib>=2.0.0->pybaseball) (1.2.0)\n",
      "Requirement already satisfied: six>=1.5 in /Users/seannorris/anaconda3/lib/python3.8/site-packages (from python-dateutil>=2.6.1->pandas>=1.0.3->pybaseball) (1.15.0)\n",
      "Requirement already satisfied: wrapt<2,>=1.10 in /Users/seannorris/anaconda3/lib/python3.8/site-packages (from deprecated->pygithub>=1.51->pybaseball) (1.11.2)\n",
      "Requirement already satisfied: attrs>=17.4.0 in /Users/seannorris/anaconda3/lib/python3.8/site-packages (from jsonschema->altair>=4.0.0->pybaseball) (19.3.0)\n",
      "Requirement already satisfied: pyrsistent>=0.14.0 in /Users/seannorris/anaconda3/lib/python3.8/site-packages (from jsonschema->altair>=4.0.0->pybaseball) (0.16.0)\n",
      "Requirement already satisfied: setuptools in /Users/seannorris/anaconda3/lib/python3.8/site-packages (from jsonschema->altair>=4.0.0->pybaseball) (49.2.0.post20200714)\n",
      "Requirement already satisfied: MarkupSafe>=0.23 in /Users/seannorris/anaconda3/lib/python3.8/site-packages (from jinja2->altair>=4.0.0->pybaseball) (1.1.1)\n",
      "Note: you may need to restart the kernel to use updated packages.\n"
     ]
    }
   ],
   "source": [
    "#Install packages\n",
    "pip install pybaseball"
   ]
  },
  {
   "cell_type": "code",
   "execution_count": 6,
   "metadata": {},
   "outputs": [],
   "source": [
    "#Import packages\n",
    "from pybaseball import statcast\n",
    "import sys\n",
    "import pandas as pd\n",
    "import numpy as np\n",
    "import matplotlib.pyplot as plt"
   ]
  },
  {
   "cell_type": "code",
   "execution_count": 38,
   "metadata": {},
   "outputs": [
    {
     "name": "stdout",
     "output_type": "stream",
     "text": [
      "This is a large query, it may take a moment to complete\n",
      "Completed sub-query from 2020-07-22 to 2020-07-27\n",
      "Completed sub-query from 2020-07-28 to 2020-08-02\n",
      "Completed sub-query from 2020-08-03 to 2020-08-08\n",
      "Completed sub-query from 2020-08-09 to 2020-08-14\n",
      "Completed sub-query from 2020-08-15 to 2020-08-20\n",
      "Completed sub-query from 2020-08-21 to 2020-08-26\n",
      "Completed sub-query from 2020-08-27 to 2020-09-01\n",
      "Completed sub-query from 2020-09-02 to 2020-09-07\n",
      "Completed sub-query from 2020-09-08 to 2020-09-13\n",
      "Completed sub-query from 2020-09-14 to 2020-09-19\n",
      "Completed sub-query from 2020-09-20 to 2020-09-25\n",
      "Completed sub-query from 2020-09-26 to 2020-09-28\n"
     ]
    }
   ],
   "source": [
    "#Import data for 2020 season\n",
    "data = statcast(start_dt='2020-07-22', end_dt='2020-09-28')"
   ]
  },
  {
   "cell_type": "code",
   "execution_count": 90,
   "metadata": {},
   "outputs": [
    {
     "data": {
      "text/plain": [
       "<BarContainer object of 11 artists>"
      ]
     },
     "execution_count": 90,
     "metadata": {},
     "output_type": "execute_result"
    },
    {
     "data": {
      "image/png": "[encoded data removed]",
      "text/plain": [
       "<Figure size 432x288 with 1 Axes>"
      ]
     },
     "metadata": {
      "needs_background": "light"
     },
     "output_type": "display_data"
    }
   ],
   "source": [
    "#data.head(2)\n",
    "#data.dtypes\n",
    "#data.index\n",
    "#data.pitch_type.value_counts()\n",
    "#data.groupby('pitch_type')['launch_speed'].mean().sort_values(ascending = False)\n",
    "#data['launch_speed'].describe()\n",
    "#data.groupby('pitch_type')['launch_angle'].mean().sort_values(ascending = False)\n",
    "\n",
    "#Distance hit by pitch type\n",
    "#type_dist = data[[\"pitch_type\", \"hit_distance_sc\"]]\n",
    "#print(type_dist[1000:1060])\n",
    "#type_dist['hit_distance_sc'].hist()\n",
    "type_dist = data.groupby('pitch_type')['hit_distance_sc'].mean().sort_values(ascending = False)\n",
    "pitches = type_dist.index\n",
    "distances = type_dist.values\n",
    "plt.bar(pitches, distances)\n",
    "\n",
    "#plt.plot(data.groupby('pitch_type')['hit_distance_sc'].mean().sort_values(ascending = False))\n",
    "#data.groupby('pitch_type')['launch_speed_angle']"
   ]
  },
  {
   "cell_type": "code",
   "execution_count": 107,
   "metadata": {},
   "outputs": [
    {
     "data": {
      "text/plain": [
       "pitch_name\n",
       "Knuckleball        0.360500\n",
       "4-Seam Fastball    0.339832\n",
       "Sinker             0.335129\n",
       "Knuckle Curve      0.334146\n",
       "Curveball          0.326174\n",
       "Cutter             0.324870\n",
       "Changeup           0.315632\n",
       "Split-Finger       0.315117\n",
       "Slider             0.309111\n",
       "Forkball           0.010500\n",
       "Name: estimated_ba_using_speedangle, dtype: float64"
      ]
     },
     "execution_count": 107,
     "metadata": {},
     "output_type": "execute_result"
    }
   ],
   "source": [
    "#Estimated batting average by pitch name\n",
    "#data.groupby('pitch_type')['estimated_ba_using_speedangle'].value_counts()\n",
    "data.groupby('pitch_name')['estimated_ba_using_speedangle'].mean().sort_values(ascending = False)"
   ]
  },
  {
   "cell_type": "code",
   "execution_count": 106,
   "metadata": {},
   "outputs": [
    {
     "data": {
      "text/plain": [
       "pitch_name\n",
       "4-Seam Fastball    84.306442\n",
       "Sinker             84.226024\n",
       "Knuckle Curve      82.296184\n",
       "Cutter             81.954047\n",
       "Split-Finger       81.422344\n",
       "Slider             81.162149\n",
       "Curveball          80.507766\n",
       "Changeup           80.462188\n",
       "Forkball           75.900000\n",
       "Knuckleball        70.220000\n",
       "Name: launch_speed, dtype: float64"
      ]
     },
     "execution_count": 106,
     "metadata": {},
     "output_type": "execute_result"
    }
   ],
   "source": [
    "#Exit Velocity by pitch name\n",
    "data.groupby('pitch_name')['launch_speed'].mean().sort_values(ascending = False)"
   ]
  },
  {
   "cell_type": "code",
   "execution_count": 105,
   "metadata": {},
   "outputs": [
    {
     "data": {
      "text/plain": [
       "pitch_name\n",
       "Forkball           61.000000\n",
       "Knuckleball        48.800000\n",
       "4-Seam Fastball    28.630082\n",
       "Cutter             15.482554\n",
       "Slider             13.185218\n",
       "Sinker              9.883324\n",
       "Curveball           8.625407\n",
       "Changeup            6.169461\n",
       "Split-Finger        2.614993\n",
       "Knuckle Curve       0.655868\n",
       "Name: launch_angle, dtype: float64"
      ]
     },
     "execution_count": 105,
     "metadata": {},
     "output_type": "execute_result"
    }
   ],
   "source": [
    "#Launch angle py pitch name\n",
    "data.groupby('pitch_name')['launch_angle'].mean().sort_values(ascending = False)"
   ]
  },
  {
   "cell_type": "code",
   "execution_count": 157,
   "metadata": {},
   "outputs": [
    {
     "name": "stdout",
     "output_type": "stream",
     "text": [
      "Knuckleball        0.045455\n",
      "4-Seam Fastball    0.015987\n",
      "Cutter             0.014061\n",
      "Sinker             0.013220\n",
      "Changeup           0.011441\n",
      "Split-Finger       0.010676\n",
      "Slider             0.010236\n",
      "Knuckle Curve      0.009806\n",
      "Curveball          0.008227\n",
      "Forkball                NaN\n",
      "Name: pitch_name, dtype: float64\n"
     ]
    }
   ],
   "source": [
    "#Percentage of balls hit on the barrel of the bat by pitch type\n",
    "#data.groupby('pitch_name')['launch_speed_angle'].value_counts()\n",
    "#data['launch_speed_angle'].value_counts()\n",
    "barrels = data[data.launch_speed_angle == 6].pitch_name.value_counts()\n",
    "nonbarrels = data[data.launch_speed_angle != 6].pitch_name.value_counts()\n",
    "p_barrels = barrels/nonbarrels\n",
    "print(p_barrels.sort_values(ascending = False))"
   ]
  },
  {
   "cell_type": "code",
   "execution_count": 92,
   "metadata": {},
   "outputs": [
    {
     "data": {
      "text/plain": [
       "<BarContainer object of 67 artists>"
      ]
     },
     "execution_count": 92,
     "metadata": {},
     "output_type": "execute_result"
    },
    {
     "data": {
      "image/png": "[encoded data removed]",
      "text/plain": [
       "<Figure size 432x288 with 1 Axes>"
      ]
     },
     "metadata": {
      "needs_background": "light"
     },
     "output_type": "display_data"
    }
   ],
   "source": [
    "#Distance balls hit by date\n",
    "date_dist = data.groupby('game_date')['hit_distance_sc'].mean().sort_values(ascending = False)\n",
    "dates = date_dist.index\n",
    "distances2 = date_dist.values\n",
    "plt.bar(dates, distances2)"
   ]
  },
  {
   "cell_type": "code",
   "execution_count": 77,
   "metadata": {},
   "outputs": [
    {
     "data": {
      "text/plain": [
       "<matplotlib.axes._subplots.AxesSubplot at 0x7f8a8016f340>"
      ]
     },
     "execution_count": 77,
     "metadata": {},
     "output_type": "execute_result"
    },
    {
     "data": {
      "image/png": "[encoded data removed]",
      "text/plain": [
       "<Figure size 432x288 with 1 Axes>"
      ]
     },
     "metadata": {
      "needs_background": "light"
     },
     "output_type": "display_data"
    }
   ],
   "source": [
    "data['hit_distance_sc'].describe()\n",
    "data['hit_distance_sc'].hist()"
   ]
  },
  {
   "cell_type": "code",
   "execution_count": 91,
   "metadata": {},
   "outputs": [
    {
     "data": {
      "text/plain": [
       "<BarContainer object of 30 artists>"
      ]
     },
     "execution_count": 91,
     "metadata": {},
     "output_type": "execute_result"
    },
    {
     "data": {
      "image/png": "[encoded data removed]",
      "text/plain": [
       "<Figure size 432x288 with 1 Axes>"
      ]
     },
     "metadata": {
      "needs_background": "light"
     },
     "output_type": "display_data"
    }
   ],
   "source": [
    "#Distance by ballpark\n",
    "park_dist = data.groupby('home_team')['hit_distance_sc'].mean().sort_values(ascending = False)\n",
    "parks = park_dist.index\n",
    "distances3 = park_dist.values\n",
    "plt.bar(parks, distances3)"
   ]
  },
  {
   "cell_type": "code",
   "execution_count": null,
   "metadata": {},
   "outputs": [],
   "source": [
    "#Code for Data Pull from the Proposal\n",
    "\n",
    "# from pybaseball import statcast\n",
    "import pandas as pd"
   ]
  },
  {
   "cell_type": "code",
   "execution_count": null,
   "metadata": {},
   "outputs": [],
   "source": [
    "#Import 2015 Data\n",
    "data15 = statcast(start_dt='2015-04-05', end_dt='2015-11-02')\n",
    "data15.to_csv(\"statcast_15.csv\")\n",
    "#Import 2016 Data\n",
    "data16 = statcast(start_dt='2016-04-03', end_dt='2016-11-02')\n",
    "data16.to_csv(\"statcast_16.csv\")\n",
    "#Import 2017 Data\n",
    "data17 = statcast(start_dt='2017-04-02', end_dt='2017-11-01')\n",
    "data17.to_csv(\"statcast_17.csv\")\n",
    "#Import 2018 Data:\n",
    "data18 = statcast(start_dt='2018-03-29', end_dt='2018-10-28')\n",
    "data18.to_csv(\"statcast_18.csv\")\n",
    "#Import 2019 Data:\n",
    "data19 = statcast(start_dt='2019-03-20', end_dt='2019-10-30')\n",
    "data19.to_csv(\"statcast_19.csv\")\n",
    "#Import 2020 Data:\n",
    "data20 = statcast(start_dt='2020-07-23', end_dt='2020-10-27')\n",
    "data20.to_csv(\"statcast_20.csv\")"
   ]
  },
  {
   "cell_type": "code",
   "execution_count": null,
   "metadata": {},
   "outputs": [],
   "source": [
    "#Get pitching stats:\n",
    "from pybaseball import pitching_stats\n",
    "pitching_data = pitching_stats(2015, 2020)\n",
    "pitching_data.to_csv(\"pitching_data_15_to_20.csv\")"
   ]
  },
  {
   "cell_type": "code",
   "execution_count": null,
   "metadata": {},
   "outputs": [],
   "source": [
    "#Get Batting stats:\n",
    "from pybaseball import batting_stats\n",
    "batting_data = batting_stats(2015, 2020)\n",
    "batting_data.to_csv(\"batting_data_15_to_20.csv\")"
   ]
  }
 ],
 "metadata": {
  "kernelspec": {
   "display_name": "Python [conda env:root] *",
   "language": "python",
   "name": "conda-root-py"
  },
  "language_info": {
   "codemirror_mode": {
    "name": "ipython",
    "version": 3
   },
   "file_extension": ".py",
   "mimetype": "text/x-python",
   "name": "python",
   "nbconvert_exporter": "python",
   "pygments_lexer": "ipython3",
   "version": "3.8.3"
  }
 },
 "nbformat": 4,
 "nbformat_minor": 4
}
